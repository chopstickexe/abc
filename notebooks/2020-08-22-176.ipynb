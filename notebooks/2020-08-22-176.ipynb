{
 "metadata": {
  "language_info": {
   "codemirror_mode": {
    "name": "ipython",
    "version": 3
   },
   "file_extension": ".py",
   "mimetype": "text/x-python",
   "name": "python",
   "nbconvert_exporter": "python",
   "pygments_lexer": "ipython3",
   "version": "3.8.2-final"
  },
  "orig_nbformat": 2,
  "kernelspec": {
   "name": "python_defaultSpec_1598097678302",
   "display_name": "Python 3.8.2 64-bit ('.venv': venv)"
  }
 },
 "nbformat": 4,
 "nbformat_minor": 2,
 "cells": [
  {
   "cell_type": "markdown",
   "metadata": {},
   "source": [
    "# A - Takoyaki\n",
    "\n",
    "https://atcoder.jp/contests/abc176/tasks/abc176_a"
   ]
  },
  {
   "cell_type": "markdown",
   "metadata": {},
   "source": [
    "## 提出コード"
   ]
  },
  {
   "cell_type": "code",
   "execution_count": 29,
   "metadata": {
    "tags": []
   },
   "outputs": [
    {
     "output_type": "stream",
     "name": "stdout",
     "text": "12\n"
    }
   ],
   "source": [
    "import math\n",
    "n, x, t = [int(x) for x in input().split()]\n",
    "print(int(math.ceil(n / x) * t))"
   ]
  },
  {
   "cell_type": "markdown",
   "metadata": {},
   "source": [
    "## 公式解説\n",
    "\n",
    "ceilを使うのは言語によっては誤りになる（整数同士の除算で、結果がintに丸められてしまうので）．これを防ぐためには `math.ceil(n/x)` ではなく、`(n + x - 1) /x` のようにすると，ちょうど割り切れるとき以外は答えが1増えて良い．"
   ]
  },
  {
   "cell_type": "code",
   "execution_count": 32,
   "metadata": {},
   "outputs": [
    {
     "output_type": "execute_result",
     "data": {
      "text/plain": "3"
     },
     "metadata": {},
     "execution_count": 32
    }
   ],
   "source": [
    "n = 12\n",
    "x = 5\n",
    "int((n + x - 1) / x)  # Pythonだと勝手に小数にしてくれてしまうので"
   ]
  },
  {
   "cell_type": "markdown",
   "metadata": {},
   "source": [
    "## 公式解説を踏まえて訂正"
   ]
  },
  {
   "cell_type": "code",
   "execution_count": 34,
   "metadata": {
    "tags": []
   },
   "outputs": [
    {
     "output_type": "stream",
     "name": "stdout",
     "text": "12\n"
    }
   ],
   "source": [
    "n, x, t = [int(x) for x in input().split()]\n",
    "print(int((n + x - 1) / x) * t)"
   ]
  },
  {
   "cell_type": "markdown",
   "metadata": {},
   "source": [
    "# B - Multiple of 9\n",
    "\n",
    "https://atcoder.jp/contests/abc176/tasks/abc176_b"
   ]
  },
  {
   "cell_type": "markdown",
   "metadata": {},
   "source": [
    "## 提出コード"
   ]
  },
  {
   "cell_type": "code",
   "execution_count": 35,
   "metadata": {
    "tags": []
   },
   "outputs": [
    {
     "output_type": "stream",
     "name": "stdout",
     "text": "Yes\n"
    }
   ],
   "source": [
    "n_str = str(input())\n",
    "x = 0\n",
    "for e in n_str:\n",
    "    x += int(e)\n",
    "print('Yes') if x % 9 == 0 else print('No')\n"
   ]
  },
  {
   "cell_type": "markdown",
   "metadata": {},
   "source": [
    "## 公式解説\n",
    "\n",
    "実はPythonのintは多倍長整数（可変長の配列で数値を表現するので、基本的に最大値がない）なので、いきなり`int(input()) % 9 == 0` としてもよかった．他の言語であれば上記の実装の通り．"
   ]
  },
  {
   "cell_type": "markdown",
   "metadata": {},
   "source": [
    "# C - Step\n",
    "\n",
    "https://atcoder.jp/contests/abc176/tasks/abc176_c"
   ]
  },
  {
   "cell_type": "markdown",
   "metadata": {},
   "source": [
    "## 提出コード"
   ]
  },
  {
   "cell_type": "code",
   "execution_count": 37,
   "metadata": {
    "tags": []
   },
   "outputs": [
    {
     "output_type": "stream",
     "name": "stdout",
     "text": "4\n"
    }
   ],
   "source": [
    "l = int(input())\n",
    "xs = [int(x) for x in input().split()]\n",
    "step = 0\n",
    "max = 0\n",
    "for x in xs:\n",
    "    # This x must be the max in the preceeding numbers\n",
    "    if x > max:\n",
    "        max = x\n",
    "        continue  # Current max, so no step is needed\n",
    "    step += max - x\n",
    "print(step)"
   ]
  },
  {
   "cell_type": "markdown",
   "metadata": {},
   "source": [
    "## 公式解説\n",
    "\n",
    "基本的に上記の解き方で良いが，Python以外の言語の場合，stepの値は32bit intの最大値 2^31=2,147,483,648を超える可能性があるので気を付けよう．"
   ]
  },
  {
   "cell_type": "markdown",
   "metadata": {},
   "source": [
    "# D - Wizard in Maze\n",
    "\n",
    "https://atcoder.jp/contests/abc176/tasks/abc176_d"
   ]
  },
  {
   "cell_type": "markdown",
   "metadata": {},
   "source": [
    "## 提出コード\n",
    "\n",
    "give up\n"
   ]
  },
  {
   "cell_type": "markdown",
   "metadata": {},
   "source": [
    "## 公式解説\n",
    "\n",
    "以下，ワープ回数をコストと呼ぶ．\n",
    "まずスタート地点から幅優先探索を用いて，コスト0でたどり着けるマスを列挙する．\n",
    "次に，コスト0でたどり着けるマスから幅優先探索を用いて，コスト1でたどり着けて，かつコスト0でたどり着けないマスを列挙する．\n",
    "これを繰り返して，すべての到達可能なマスに対してコストを求める．\n",
    "\n",
    "このとき，コストが0と1だけの場合は01-BFSと呼ばれる実装が使える．（コスト0は両端キューの先頭，コスト1は終端に追加することで，距離順の探索が可能）\n",
    "\n",
    "各マスについて25マス分の移動しか調べないため，計算量はO(HW)．\n"
   ]
  },
  {
   "cell_type": "markdown",
   "metadata": {},
   "source": [
    "## 公式解説を踏まえた実装\n",
    "\n",
    "TBD"
   ]
  },
  {
   "cell_type": "code",
   "execution_count": 23,
   "metadata": {},
   "outputs": [],
   "source": [
    "H, W = [int(x) for x in input().split()]\n",
    "c_h, c_w = [int(x) - 1 for x in input().split()]  # Convert to 0-origin\n",
    "d_h, d_w = [int(x) - 1 for x in input().split()]  # Convert to 0-origin\n",
    "s = ['....'] * H"
   ]
  }
 ]
}